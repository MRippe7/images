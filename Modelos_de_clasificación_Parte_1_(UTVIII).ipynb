{
 "cells": [
  {
   "cell_type": "markdown",
   "metadata": {
    "id": "X5ctr-7c3Kzi"
   },
   "source": [
    "<img src='https://raw.githubusercontent.com/MRippe7/images/master/FEDE1.png' width=1100>\n",
    "\n",
    "# ¿Qué es Scikit-Learn?\n",
    "Es una herramienta simple y eficiente para el análisis de datos, está construido sobre `NumPy`, `SciPy` y `Matplotlib`. Tiene licencia BSD de código abierto disponible comercialmente (son un tipo de licencias de baja restricción para software de código abierto que no impone requisitos de redistribución).\n",
    "\n",
    "En esta librería se pueden hacer, a grandes rasgos, tres tareas fundamentales:  \n",
    "**Clasificar:**  \n",
    "Identificar la categoría a la cual pertenece determinado objeto.  \n",
    "**Predecir:**  \n",
    "Emplear una regresión lineal para predecir una variable continua, basado en las variables independientes relevantes.  \n",
    "**Agrupar:**  \n",
    "Reunir elementos diferentes pero con características similares en diversos grupos.\n",
    "\n",
    "Es para estas tareas, que se hace necesario un preprocesamiento de los datos ya que, queremos hacerlos aptos para ser ejecutados en un modelo con menor esfuerzo, para así mejorar la calidad del mismo.\n",
    "\n",
    "\n",
    "Ya conocemos algunas herramientas para mejorar la calidad de los como por ejemplo datos, ajustar el tipo de dato, imputación de datos faltantes, entre otros. Los datos pueden ser ingresados así al modelo, pero es mucho mejor si se tratan con algunas técnicas adicionales, para las cuales utilizaremos la librería `Scikit-learn`:\n"
   ]
  },
  {
   "cell_type": "code",
   "execution_count": null,
   "metadata": {
    "colab": {
     "base_uri": "https://localhost:8080/"
    },
    "id": "Lb2vj7G4Rpap",
    "outputId": "617aa9de-0c23-440f-b375-c5eab4efe321"
   },
   "outputs": [],
   "source": [
    "pip install scikit-learn"
   ]
  },
  {
   "cell_type": "code",
   "execution_count": null,
   "metadata": {
    "id": "pWmY-dS8R_H_"
   },
   "outputs": [],
   "source": [
    "from sklearn.preprocessing import StandardScaler \n",
    "import numpy as np"
   ]
  },
  {
   "cell_type": "markdown",
   "metadata": {
    "id": "ToJmOCO5dHfS"
   },
   "source": [
    "\n",
    "\n",
    "\n",
    "\n",
    "\n",
    "\n",
    "##¿Para qué sirve el `StandardScaler`?\n",
    "Lo utilizaremos para estandarizar nuestros datos, es decir, a cada una de nuestras variables de entrenamiento  le calcula la media $\\mu$ (o $0$ si se ajusta el parámetro `with_mean=False`) y la varianza $s$ (o $1$ si se ajusta el parámetro `with_std=False`), para así a cada dato extraerle la media y a tal resultado dividirlo en la varianza, así:\n",
    "$$Z=\\frac{x-\\mu}{s}.$$\n",
    "Es importante recalcar que el centrado y la escala se realiza en cada variable, de forma independiente, para esto se cada uno de los cálculos necesarios se almacenan para ser utilizado en las transformaciones que sean requeridas posteriormente.\n",
    "\n",
    "La estandarización de los datos es un requisito común para muchos estimadores de aprendizaje automático, ya que es posible que no se comporten adecuadamente si las variables que se ingresan al modelo no se parecen a los datos estándar con una distribución normal (por ejemplo, a una gaussiana con media $0$ y varianza unitaria). Esto en gran medida se da, porque muchos elementos utilizados en la función objetivo de un algoritmo de aprendizaje, como lo son las MSV y los regularizadores L1 y L2, asumen que todas las variables están centradas alrededor de $0$ y tienen varianza en el mismo orden. Si alguna de las variables tiene una varianza mayor en magnitud que las otras, podría dominar la función objetivo y hacer que el estimador no pueda aprender de otras características correctamente como se esperaba.\n"
   ]
  },
  {
   "cell_type": "code",
   "execution_count": null,
   "metadata": {
    "id": "jmpzaX6BR16v"
   },
   "outputs": [],
   "source": [
    "scaler = StandardScaler().fit([[0,5,20],[1,2,3]])"
   ]
  },
  {
   "cell_type": "code",
   "execution_count": null,
   "metadata": {
    "colab": {
     "base_uri": "https://localhost:8080/"
    },
    "id": "qdiokslFSf8P",
    "outputId": "0539af52-9735-4283-864c-f926f42ac384"
   },
   "outputs": [],
   "source": [
    "scaler.transform([[0,5,20],[1,2,3],[2,7,30],[0.5,3,10]])"
   ]
  },
  {
   "cell_type": "code",
   "execution_count": null,
   "metadata": {
    "colab": {
     "base_uri": "https://localhost:8080/"
    },
    "id": "YcQEa7lvSgJk",
    "outputId": "7b95e337-8ac1-4947-f8c8-608c282c9401"
   },
   "outputs": [],
   "source": [
    "scaler.mean_"
   ]
  },
  {
   "cell_type": "code",
   "execution_count": null,
   "metadata": {
    "colab": {
     "base_uri": "https://localhost:8080/"
    },
    "id": "H40yx-QRgu6q",
    "outputId": "54cd0325-47b0-42f5-a48e-dbf9d7182b12"
   },
   "outputs": [],
   "source": [
    "scaler.var_"
   ]
  },
  {
   "cell_type": "code",
   "execution_count": null,
   "metadata": {
    "colab": {
     "base_uri": "https://localhost:8080/"
    },
    "id": "eoDht5ski-nA",
    "outputId": "e14e1b33-3639-42cb-d663-738176986f03"
   },
   "outputs": [],
   "source": [
    "scaler.n_features_in_"
   ]
  },
  {
   "cell_type": "code",
   "execution_count": null,
   "metadata": {
    "colab": {
     "base_uri": "https://localhost:8080/"
    },
    "id": "d58ItB1cjC28",
    "outputId": "e8e20c24-7517-4612-9d52-d94fdac2d9c2"
   },
   "outputs": [],
   "source": [
    "scaler.n_samples_seen_"
   ]
  },
  {
   "cell_type": "code",
   "execution_count": null,
   "metadata": {
    "id": "IV_C2OlHjHma"
   },
   "outputs": [],
   "source": [
    "#scaler.feature_names_in_"
   ]
  },
  {
   "cell_type": "code",
   "execution_count": null,
   "metadata": {
    "id": "yq1Fjs95hASG"
   },
   "outputs": [],
   "source": [
    "scaler2 = StandardScaler(with_mean=False,with_std=False).fit([[0,5,20],[1,2,3]])"
   ]
  },
  {
   "cell_type": "code",
   "execution_count": null,
   "metadata": {
    "colab": {
     "base_uri": "https://localhost:8080/"
    },
    "id": "FLGPcKheSgSe",
    "outputId": "8579dc0e-822a-462a-dfb3-7ec696a117a9"
   },
   "outputs": [],
   "source": [
    "scaler2.transform([[0,5,20],[1,2,3],[2,7,30],[0.5,3,10]])"
   ]
  },
  {
   "cell_type": "code",
   "execution_count": null,
   "metadata": {
    "id": "p-SQgFyQhjAz"
   },
   "outputs": [],
   "source": [
    "scaler2.mean_"
   ]
  },
  {
   "cell_type": "code",
   "execution_count": null,
   "metadata": {
    "id": "IrdyFNdehynL"
   },
   "outputs": [],
   "source": [
    "scaler2.var_"
   ]
  },
  {
   "cell_type": "markdown",
   "metadata": {
    "id": "H24TrhFsuFVH"
   },
   "source": [
    "**Ejercicio:**  \n",
    "Cree dos dataframe utilizando pandas, luego entrene un StandardScaler con uno y transforme los datos del otro dataframe con el escalador. Los dataframe deben ser de tres variables y todas numéricas."
   ]
  },
  {
   "cell_type": "code",
   "execution_count": null,
   "metadata": {
    "id": "dOd-_Yr6sjH5"
   },
   "outputs": [],
   "source": [
    "import pandas as pd"
   ]
  },
  {
   "cell_type": "markdown",
   "metadata": {
    "id": "7JRhH7JAqSYf"
   },
   "source": [
    "# ¿Qué otros escaladores podríamos utilizar?\n",
    "## MinMaxScaler\n",
    "Cada una de las variables se transforma, de manera independiente, sobre un determinado rango de valores, lo más usual es que dicho rango sea $[0,1]$. Los datos se transforman así:\n",
    "$$X_{std}=\\frac{x-x_{mín}}{x_{máx}-x_{mín}}.$$"
   ]
  },
  {
   "cell_type": "code",
   "execution_count": null,
   "metadata": {
    "colab": {
     "base_uri": "https://localhost:8080/",
     "height": 111
    },
    "id": "WpOBvyStiDmE",
    "outputId": "bc79e27a-2d72-4574-ccdb-ac811a25f341"
   },
   "outputs": [],
   "source": [
    "#X = pd.DataFrame({'a':[0,1],'b':[5,2],'c':[20,3]})\n",
    "#Y = pd.DataFrame({'a':[0,1,2,0.5],'b':[5,2,7,3],'c':[20,3,30,10]})"
   ]
  },
  {
   "cell_type": "code",
   "execution_count": null,
   "metadata": {
    "id": "53EcniXRiDoD"
   },
   "outputs": [],
   "source": [
    "X_std = (X - X.min(axis=0)) / (X.max(axis=0) - X.min(axis=0))"
   ]
  },
  {
   "cell_type": "code",
   "execution_count": null,
   "metadata": {
    "colab": {
     "base_uri": "https://localhost:8080/",
     "height": 111
    },
    "id": "F0mFShwIvbLJ",
    "outputId": "4994d1e8-1354-4342-c792-0972968b5bf3"
   },
   "outputs": [],
   "source": [
    "X_std"
   ]
  },
  {
   "cell_type": "code",
   "execution_count": null,
   "metadata": {
    "id": "1fooSxXNwAMH"
   },
   "outputs": [],
   "source": [
    "## Para recuperar la información original\n",
    "#X_scaled = X_std * (X.max(axis=0) - X.min(axis=0)) + X.min(axis=0)\n",
    "#X_scaled"
   ]
  },
  {
   "cell_type": "code",
   "execution_count": null,
   "metadata": {
    "id": "JE4uzdMWwAJ_"
   },
   "outputs": [],
   "source": [
    "from sklearn.preprocessing import MinMaxScaler"
   ]
  },
  {
   "cell_type": "code",
   "execution_count": null,
   "metadata": {
    "id": "ksbOFOhYwAH8"
   },
   "outputs": [],
   "source": [
    "scaler = MinMaxScaler()"
   ]
  },
  {
   "cell_type": "code",
   "execution_count": null,
   "metadata": {
    "colab": {
     "base_uri": "https://localhost:8080/"
    },
    "id": "u67ISHzfwAF1",
    "outputId": "28119480-0aa2-4cd7-9706-c685990c36bc"
   },
   "outputs": [],
   "source": [
    "scaler.fit(X)"
   ]
  },
  {
   "cell_type": "code",
   "execution_count": null,
   "metadata": {
    "colab": {
     "base_uri": "https://localhost:8080/"
    },
    "id": "Xnc9q-0Z1U7G",
    "outputId": "7a252ca4-becd-4d56-ee69-94bb09165899"
   },
   "outputs": [],
   "source": [
    "scaler.data_min_"
   ]
  },
  {
   "cell_type": "code",
   "execution_count": null,
   "metadata": {
    "colab": {
     "base_uri": "https://localhost:8080/"
    },
    "id": "841k9o6wwADA",
    "outputId": "b3b39147-d557-43ff-a847-ba1d2141da57"
   },
   "outputs": [],
   "source": [
    "scaler.data_max_"
   ]
  },
  {
   "cell_type": "code",
   "execution_count": null,
   "metadata": {
    "colab": {
     "base_uri": "https://localhost:8080/"
    },
    "id": "y3H_Oi3TwAAs",
    "outputId": "08360f05-78ee-4ba6-970c-ac2cb3858e45"
   },
   "outputs": [],
   "source": [
    "scaler.transform(Y)"
   ]
  },
  {
   "cell_type": "code",
   "execution_count": null,
   "metadata": {
    "id": "ia8hr-qN1OgC"
   },
   "outputs": [],
   "source": [
    "# Si no desdeamos que el rango de los valores sea [0,1], hacemos lo siguiente:\n",
    "scaler2 = MinMaxScaler((2,10))"
   ]
  },
  {
   "cell_type": "code",
   "execution_count": null,
   "metadata": {
    "colab": {
     "base_uri": "https://localhost:8080/"
    },
    "id": "d_kTjpyH1OiD",
    "outputId": "6ab1354a-7ece-463c-bd91-7aa45c6ac1b2"
   },
   "outputs": [],
   "source": [
    "scaler2.fit(X)"
   ]
  },
  {
   "cell_type": "code",
   "execution_count": null,
   "metadata": {
    "colab": {
     "base_uri": "https://localhost:8080/"
    },
    "id": "Jn8XiAMI1Okb",
    "outputId": "311b53d5-39f9-4956-bf86-714328ebc889"
   },
   "outputs": [],
   "source": [
    "scaler2.transform(Y)"
   ]
  },
  {
   "cell_type": "markdown",
   "metadata": {
    "id": "3PLoqb956ZdG"
   },
   "source": [
    "## MaxAbsScaler\n",
    "Es muy parecido al MinMaxScaler, salvo que el rango que toman los valores depende de los signos que tengan los mismos, si únicamente hay valores negativos el rango es de $[-1,0]$, si únicamente hay valores positivos el rango es $[0,1]$ y si hay valores positivos y negativos el rango será $[-1,1]$."
   ]
  },
  {
   "cell_type": "code",
   "execution_count": null,
   "metadata": {
    "id": "V6PaZJeH7kD9"
   },
   "outputs": [],
   "source": [
    "from sklearn.preprocessing import MaxAbsScaler\n"
   ]
  },
  {
   "cell_type": "code",
   "execution_count": null,
   "metadata": {
    "colab": {
     "base_uri": "https://localhost:8080/",
     "height": 111
    },
    "id": "sv1LIDZy6_8D",
    "outputId": "3d0cef98-2164-4e4b-e277-8b6ba096d60e"
   },
   "outputs": [],
   "source": [
    "### Negtivos\n",
    "W = pd.DataFrame({'a':[-1,-10],'b':[-5,-3],'c':[-20,-3]})\n",
    "W"
   ]
  },
  {
   "cell_type": "code",
   "execution_count": null,
   "metadata": {
    "id": "0I_1naxU7ZW3"
   },
   "outputs": [],
   "source": [
    "tf1 = MaxAbsScaler().fit(W)"
   ]
  },
  {
   "cell_type": "code",
   "execution_count": null,
   "metadata": {
    "colab": {
     "base_uri": "https://localhost:8080/"
    },
    "id": "LD9jUoRf7Ytc",
    "outputId": "b5167e65-d739-4caf-8abe-59411c27bb7b"
   },
   "outputs": [],
   "source": [
    "tf1.transform(W)"
   ]
  },
  {
   "cell_type": "code",
   "execution_count": null,
   "metadata": {
    "colab": {
     "base_uri": "https://localhost:8080/"
    },
    "id": "9W_7EcxE8YIh",
    "outputId": "4398ca24-6b42-433f-f7bd-5dc948c986f1"
   },
   "outputs": [],
   "source": [
    "tf1.transform(Y)"
   ]
  },
  {
   "cell_type": "code",
   "execution_count": null,
   "metadata": {
    "colab": {
     "base_uri": "https://localhost:8080/",
     "height": 111
    },
    "id": "HDe-MX4x7TGW",
    "outputId": "f59d4fef-71fa-41e4-d1db-ab82a6f9ef0a"
   },
   "outputs": [],
   "source": [
    "### Positivos\n",
    "X"
   ]
  },
  {
   "cell_type": "code",
   "execution_count": null,
   "metadata": {
    "id": "WQFnVfvd8j7P"
   },
   "outputs": [],
   "source": [
    "tf2 = MaxAbsScaler().fit(X)"
   ]
  },
  {
   "cell_type": "code",
   "execution_count": null,
   "metadata": {
    "colab": {
     "base_uri": "https://localhost:8080/"
    },
    "id": "0u4U7t9q8j5M",
    "outputId": "ecc927b8-87b5-4826-beac-2964b6da1646"
   },
   "outputs": [],
   "source": [
    "tf2.transform(X)"
   ]
  },
  {
   "cell_type": "code",
   "execution_count": null,
   "metadata": {
    "colab": {
     "base_uri": "https://localhost:8080/"
    },
    "id": "EvBac3M68j21",
    "outputId": "3c91860c-56ff-4ec2-d996-4924c7058f26"
   },
   "outputs": [],
   "source": [
    "tf2.transform(Y)"
   ]
  },
  {
   "cell_type": "code",
   "execution_count": null,
   "metadata": {
    "colab": {
     "base_uri": "https://localhost:8080/",
     "height": 111
    },
    "id": "gUdxVPGa1Omx",
    "outputId": "f097e282-6c98-46c1-e1c4-95a04e1f50b4"
   },
   "outputs": [],
   "source": [
    "### P y N\n",
    "Z = pd.DataFrame({'a':[-1,1],'b':[5,-3],'c':[20,3]})\n",
    "Z"
   ]
  },
  {
   "cell_type": "code",
   "execution_count": null,
   "metadata": {
    "id": "A_ST4YHq6_54"
   },
   "outputs": [],
   "source": [
    "tf3 = MaxAbsScaler().fit(Z)"
   ]
  },
  {
   "cell_type": "code",
   "execution_count": null,
   "metadata": {
    "colab": {
     "base_uri": "https://localhost:8080/"
    },
    "id": "lBy6t-T26_11",
    "outputId": "d4a98daf-6b3e-4508-8f67-0258c6c2f3df"
   },
   "outputs": [],
   "source": [
    "tf3.transform(Z)"
   ]
  },
  {
   "cell_type": "code",
   "execution_count": null,
   "metadata": {
    "colab": {
     "base_uri": "https://localhost:8080/"
    },
    "id": "mbzyJ6HO6_zy",
    "outputId": "16de45c5-4925-47e5-ca5b-1b2a027c2dd0"
   },
   "outputs": [],
   "source": [
    "tf3.transform(Y)"
   ]
  },
  {
   "cell_type": "markdown",
   "metadata": {
    "id": "WYPUsrYL9FTR"
   },
   "source": [
    "Las formas que hemos visto de preprocesamiento de datos, hasta el momento, funcionan bastante bien, pero si se tienen matrices dispersas, lo mejor es emplear el `MaxAbsScaler`, ya que no mueve los datos ni hace que se pierda el esparcimiento que se tenga de los datos. \n",
    "\n",
    "Si en nuestros datos hay valores atípicos grandes, los tres presentan ligeros problemas, con el fin de solucionar esto, se emplea el siguiente escalador:\n",
    "\n",
    "## RobustScaler\n",
    "Éste método se basa en utilizar percentiles, por lo que no se ve tan afectado por los datos atípicos grandes, pero su rango es un poco más grande que los trabajados anteriormente.\n",
    "  \n",
    "    \n",
    "\n",
    "**¿Cómo funciona?**  \n",
    "Este método elimina la mediana y escala los datos en el rango entre el primer cuartil ($Q_1$) y el tercer cuartil ($Q_3$), es decir, entre el rango de los percentiles 25 y 75 (rango intercuartílico).\n",
    "$$\\frac{x-Q_1}{Q_3-Q_1}$$\n"
   ]
  },
  {
   "cell_type": "code",
   "execution_count": null,
   "metadata": {
    "id": "d0960vWR6_xd"
   },
   "outputs": [],
   "source": [
    "from sklearn.preprocessing import RobustScaler"
   ]
  },
  {
   "cell_type": "code",
   "execution_count": null,
   "metadata": {
    "id": "N3sVFdaB6_us"
   },
   "outputs": [],
   "source": [
    "rscaler = RobustScaler().fit(X)"
   ]
  },
  {
   "cell_type": "code",
   "execution_count": null,
   "metadata": {
    "colab": {
     "base_uri": "https://localhost:8080/"
    },
    "id": "4x42HxtrahRw",
    "outputId": "87c0a9ff-c4c0-432f-dd87-0f574b1de14d"
   },
   "outputs": [],
   "source": [
    "rscaler.transform(Y)"
   ]
  },
  {
   "cell_type": "code",
   "execution_count": null,
   "metadata": {
    "id": "AIoFwDbcahPr"
   },
   "outputs": [],
   "source": [
    "rscaler2 = RobustScaler(quantile_range=(10,90)).fit(X)"
   ]
  },
  {
   "cell_type": "code",
   "execution_count": null,
   "metadata": {
    "colab": {
     "base_uri": "https://localhost:8080/"
    },
    "id": "rK0PUts4ahM-",
    "outputId": "cac76682-b627-4909-8f99-610f7cb5478c"
   },
   "outputs": [],
   "source": [
    "rscaler2.transform(Y)"
   ]
  },
  {
   "cell_type": "markdown",
   "metadata": {
    "id": "a-R0CbJTeXvn"
   },
   "source": [
    "# ¿Qué hacer con las variables categóricas?\n",
    "Para las variables de ésta índole, por lo general suele utilizarse un tipo muy particular de codificación conocida como `OneHotEncoder`, la cual tiene como objetivo transfomar las categorías (que deben ser ingresadas como texto o como enteros), en columnas binarias (una por cada categoría) en las que se encontrará $1$ si el registro tenía ésa categoría como dato y $0$ en caso contrario."
   ]
  },
  {
   "cell_type": "code",
   "execution_count": null,
   "metadata": {
    "colab": {
     "base_uri": "https://localhost:8080/",
     "height": 204
    },
    "id": "onq24ySLahKk",
    "outputId": "c854cbd1-7b1e-4468-8c80-8a062fc9c40a"
   },
   "outputs": [],
   "source": [
    "OHE = pd.DataFrame({'C.C.':[123,456,789,741,963],'Semestre':[1,1,5,8,3],'Ciudad':['Bogotá','Cali','Medellín','Barranquilla','Cali']})\n",
    "OHE"
   ]
  },
  {
   "cell_type": "code",
   "execution_count": null,
   "metadata": {
    "id": "78wCyiPqahEZ"
   },
   "outputs": [],
   "source": [
    "from sklearn.preprocessing import OneHotEncoder"
   ]
  },
  {
   "cell_type": "code",
   "execution_count": null,
   "metadata": {
    "id": "38X0_rf3gRPf"
   },
   "outputs": [],
   "source": [
    "encoder = OneHotEncoder()"
   ]
  },
  {
   "cell_type": "code",
   "execution_count": null,
   "metadata": {
    "colab": {
     "base_uri": "https://localhost:8080/"
    },
    "id": "nEhGvAt2gRNU",
    "outputId": "9b1aa648-86b9-4843-9efb-5f6da3c5475d"
   },
   "outputs": [],
   "source": [
    "encoder.fit(OHE.iloc[:,1:])"
   ]
  },
  {
   "cell_type": "code",
   "execution_count": null,
   "metadata": {
    "colab": {
     "base_uri": "https://localhost:8080/"
    },
    "id": "h2jOjy30gRLh",
    "outputId": "cc32f8a9-316f-4c09-f7a9-85af78119f5b"
   },
   "outputs": [],
   "source": [
    "encoder.categories_"
   ]
  },
  {
   "cell_type": "code",
   "execution_count": null,
   "metadata": {
    "colab": {
     "base_uri": "https://localhost:8080/",
     "height": 265
    },
    "id": "5VS5QsHgjh_1",
    "outputId": "ec8700b1-69a5-4bcc-9c6b-d57a83c39295"
   },
   "outputs": [],
   "source": [
    "dum_df = pd.get_dummies(OHE, columns=[\"Semestre\",\"Ciudad\"], prefix=[\"Semestre es\",\"Ciudad es\"] )\n",
    "dum_df"
   ]
  },
  {
   "cell_type": "code",
   "execution_count": null,
   "metadata": {
    "colab": {
     "base_uri": "https://localhost:8080/",
     "height": 204
    },
    "id": "Nk9t0_eOhw-w",
    "outputId": "54322fb9-ed80-427d-891f-b6e1c15c196c"
   },
   "outputs": [],
   "source": [
    "OY = pd.DataFrame({'C.C.':[1,2,3,4,5],'Semestre':[1,1,1,3,3],'Ciudad':['Bogotá','Bogotá','Bogotá','Cali','Cali']})\n",
    "OY"
   ]
  },
  {
   "cell_type": "code",
   "execution_count": null,
   "metadata": {
    "colab": {
     "base_uri": "https://localhost:8080/"
    },
    "id": "1lC7w2U9gRIr",
    "outputId": "134e4121-4b59-40fe-bbcc-745bc7dc2adb"
   },
   "outputs": [],
   "source": [
    "encoder.transform(OY.iloc[:,1:]).toarray()"
   ]
  },
  {
   "cell_type": "code",
   "execution_count": null,
   "metadata": {
    "colab": {
     "base_uri": "https://localhost:8080/"
    },
    "id": "ncdUzLDDgRGL",
    "outputId": "b968c3aa-ce8e-4a82-b035-968249d3d409"
   },
   "outputs": [],
   "source": [
    "encoder.get_feature_names_out(['Semestre', 'Ciudad'])"
   ]
  },
  {
   "cell_type": "code",
   "execution_count": null,
   "metadata": {
    "id": "jnbOH2tWjiEn"
   },
   "outputs": [],
   "source": [
    "transformed = encoder.transform(OY.iloc[:,1:])"
   ]
  },
  {
   "cell_type": "code",
   "execution_count": null,
   "metadata": {
    "colab": {
     "base_uri": "https://localhost:8080/",
     "height": 204
    },
    "id": "3XbJT3ZIjiCY",
    "outputId": "94b1ab66-8664-4389-ee51-150f2ab7aa53"
   },
   "outputs": [],
   "source": [
    "ohe_df = pd.DataFrame(transformed.toarray(), columns=encoder.get_feature_names_out())\n",
    "ohe_df"
   ]
  },
  {
   "cell_type": "code",
   "execution_count": null,
   "metadata": {
    "colab": {
     "base_uri": "https://localhost:8080/",
     "height": 268
    },
    "id": "4MmVXYm6oW1T",
    "outputId": "c75b892e-9883-450f-c03a-c3f1187d6627"
   },
   "outputs": [],
   "source": [
    "data = pd.concat([OY, ohe_df], axis=1)\n",
    "data"
   ]
  },
  {
   "cell_type": "code",
   "execution_count": null,
   "metadata": {
    "colab": {
     "base_uri": "https://localhost:8080/",
     "height": 204
    },
    "id": "5LLzxWVjpAAD",
    "outputId": "9b038bd3-a83c-4d1e-e63a-495831f866aa"
   },
   "outputs": [],
   "source": [
    "data = pd.concat([OY, ohe_df], axis=1).drop(['Semestre','Ciudad'], axis=1)\n",
    "data"
   ]
  },
  {
   "cell_type": "code",
   "execution_count": null,
   "metadata": {
    "id": "TZEBjXnMgREB"
   },
   "outputs": [],
   "source": [
    "## Puede ocurrir\n",
    "#encoder.transform([[1,'Barranquilla'], [7, 'Bogotá']])"
   ]
  },
  {
   "cell_type": "code",
   "execution_count": null,
   "metadata": {
    "id": "iwk4YnKco_-A"
   },
   "outputs": [],
   "source": [
    "encoder2 = OneHotEncoder(handle_unknown='ignore').fit(OHE.iloc[:,1:])"
   ]
  },
  {
   "cell_type": "code",
   "execution_count": null,
   "metadata": {
    "colab": {
     "base_uri": "https://localhost:8080/"
    },
    "id": "gMju0JR5o_7n",
    "outputId": "27e5fae5-ceab-49b5-f689-c2858da1ebc8"
   },
   "outputs": [],
   "source": [
    "encoder2.transform([[1,'Barranquilla'], [7, 'Bogotá']]).toarray()"
   ]
  },
  {
   "cell_type": "code",
   "execution_count": null,
   "metadata": {
    "id": "58pWIa9MqRLo"
   },
   "outputs": [],
   "source": [
    "encoder2 = OneHotEncoder(handle_unknown='ignore',drop='first').fit(OHE.iloc[:,1:])"
   ]
  },
  {
   "cell_type": "code",
   "execution_count": null,
   "metadata": {
    "colab": {
     "base_uri": "https://localhost:8080/"
    },
    "id": "w_pL6aPsqVca",
    "outputId": "bbe7bdb9-e34f-44fe-cb92-28167e0de180"
   },
   "outputs": [],
   "source": [
    "encoder2.transform([[1,'Barranquilla'], [7, 'Bogotá']]).toarray()"
   ]
  },
  {
   "cell_type": "markdown",
   "metadata": {
    "id": "2tTMLkISs6h7"
   },
   "source": [
    "Hasta el momento hemos visto las formas más comunes de alistar los datos para ser ingresados al modelo (`StandarScaler`, `MinMaxScaler`, `MaxAbsScaler`, `RobustScaler` y `OneHotEncoding`), pero éstas no son las únicas, ya que existen muchas otras transformaciones que se pueden realizar sobre los datos, esto teniendo en cuenta la naturaleza de los mismos, por ejemplo, `Binarizer`, `Normalizer` entre otros. Además, existen transformaciones que uno puede hacer sobre las etiquetas que se predecirán con `LabelEncoder` o con `LabelBinarizer`.\n",
    "\n",
    "## Ejercicio\n",
    "Realizar una transformación diferente sobre cada columna de la base de datos `iris`."
   ]
  },
  {
   "cell_type": "code",
   "execution_count": null,
   "metadata": {
    "colab": {
     "base_uri": "https://localhost:8080/",
     "height": 419
    },
    "id": "lNtNXyF4_ZWJ",
    "outputId": "ebb308fc-11ef-40cf-9ec6-e9fe0789da43"
   },
   "outputs": [],
   "source": [
    "url = \"https://archive.ics.uci.edu/ml/machine-learning-databases/iris/iris.data\"\n",
    "iris = pd.read_csv(url, names=['sepal length','sepal width','petal length','petal width','target'])\n",
    "iris"
   ]
  },
  {
   "cell_type": "markdown",
   "metadata": {
    "id": "zGO1KocM0B1i"
   },
   "source": [
    "\n",
    "# Análisis de Componentes Principales (ACP)"
   ]
  },
  {
   "cell_type": "markdown",
   "metadata": {
    "id": "j8nH1pkt_zCX"
   },
   "source": [
    "## Estandarizar los datos:\n",
    "El ACP se realiza por escala, por lo que deben transformar las variables antes de aplicar PCA. Use el `StandardScaler` para ello. Si desea ver el efecto negativo que puede tener no escalar sus datos, `scikit-learn` tiene una sección sobre los [efectos de no estandarizar sus datos](https://scikit-learn.org/stable/auto_examples/preprocessing/plot_scaling_importance.html#sphx-glr-auto-examples-preprocessing-plot-scaling-importance-py)."
   ]
  },
  {
   "cell_type": "code",
   "execution_count": null,
   "metadata": {
    "id": "FV44NNZV_m3t"
   },
   "outputs": [],
   "source": [
    "from sklearn.preprocessing import StandardScaler\n",
    "variables = ['sepal length', 'sepal width', 'petal length', 'petal width']\n",
    "# Tomamos las variables\n",
    "x = iris.loc[:, variables].values\n",
    "# Separamos la variable objetivo\n",
    "y = iris.loc[:,['target']].values\n",
    "# Estandarizamos las variables\n",
    "x = StandardScaler().fit_transform(x)"
   ]
  },
  {
   "cell_type": "code",
   "execution_count": null,
   "metadata": {
    "colab": {
     "base_uri": "https://localhost:8080/",
     "height": 419
    },
    "id": "f_grOUUY_m0s",
    "outputId": "df757180-2403-4b85-f406-0a00fccd2fcc"
   },
   "outputs": [],
   "source": [
    "pd.DataFrame(x)"
   ]
  },
  {
   "cell_type": "markdown",
   "metadata": {
    "id": "j_Gmz_iqBOsy"
   },
   "source": [
    "##Reducir la dimensionalidad\n",
    "Los datos originales tienen 4 columnas (longitud del sépalo, ancho del sépalo, longitud del pétalo y ancho del pétalo). Lo que haremos ahora esproyectar los datos originales que son de 4 dimensiones en 2 dimensiones. \n",
    "\n",
    "Cable aclarar que después de la reducción de la dimensionalidad, generalmente no se asigna un significado particular a cada componente principal. Los nuevos componentes son solo las dos dimensiones principales de la variación."
   ]
  },
  {
   "cell_type": "code",
   "execution_count": null,
   "metadata": {
    "id": "z7klfAEL_myK"
   },
   "outputs": [],
   "source": [
    "from sklearn.decomposition import PCA\n",
    "pca = PCA(n_components=2)\n",
    "principalComponents = pca.fit_transform(x)\n",
    "principalDf = pd.DataFrame(data = principalComponents, columns = ['CP 1', 'CP 2'])"
   ]
  },
  {
   "cell_type": "code",
   "execution_count": null,
   "metadata": {
    "colab": {
     "base_uri": "https://localhost:8080/",
     "height": 419
    },
    "id": "zvoM9wb4_mva",
    "outputId": "25416dc2-ee0c-41ca-8e0f-03a22aa4d836"
   },
   "outputs": [],
   "source": [
    "principalDf"
   ]
  },
  {
   "cell_type": "code",
   "execution_count": null,
   "metadata": {
    "colab": {
     "base_uri": "https://localhost:8080/",
     "height": 419
    },
    "id": "-S6J4J37CBjK",
    "outputId": "33be1100-9ac0-4b57-f997-d4129543cf2f"
   },
   "outputs": [],
   "source": [
    "finalDf = pd.concat([principalDf, iris[['target']]], axis = 1)\n",
    "finalDf"
   ]
  },
  {
   "cell_type": "markdown",
   "metadata": {
    "id": "hiHLSa84CNbC"
   },
   "source": [
    "## Visualizar las componentes principales\n",
    "El gráfico que realizamos es de las componentes principales, no de las variables originales"
   ]
  },
  {
   "cell_type": "code",
   "execution_count": null,
   "metadata": {
    "id": "H18nQarCpxkt"
   },
   "outputs": [],
   "source": [
    "import matplotlib.pyplot as plt"
   ]
  },
  {
   "cell_type": "code",
   "execution_count": null,
   "metadata": {
    "colab": {
     "base_uri": "https://localhost:8080/",
     "height": 523
    },
    "id": "feKpiIUXCMnS",
    "outputId": "7b382792-6158-4584-f1de-2bd67ea58b89"
   },
   "outputs": [],
   "source": [
    "fig = plt.figure(figsize = (8,8))\n",
    "ax = fig.add_subplot(1,1,1) \n",
    "ax.set_xlabel('Componente 1', fontsize = 15)\n",
    "ax.set_ylabel('Componente 2', fontsize = 15)\n",
    "ax.set_title('ACP con 2 componentes', fontsize = 20)\n",
    "targets = ['Iris-setosa', 'Iris-versicolor', 'Iris-virginica']\n",
    "colors = ['r', 'g', 'b']\n",
    "for target, color in zip(targets,colors):\n",
    "    indicesToKeep = finalDf['target'] == target\n",
    "    ax.scatter(finalDf.loc[indicesToKeep, 'CP 1']\n",
    "               , finalDf.loc[indicesToKeep, 'CP 2']\n",
    "               , c = color\n",
    "               , s = 50)\n",
    "ax.legend(targets)\n",
    "ax.grid()"
   ]
  },
  {
   "cell_type": "markdown",
   "metadata": {
    "id": "AX2aYijPDQxD"
   },
   "source": [
    "##Varianza explicada\n",
    "Indica cuánta información (varianza) se puede atribuir a cada uno de los componentes principales. Esto es importante ya que, si bien se puede \"convertir\" un espacio de 4 dimensiones en un espacio de 2 dimensiones, se pierde parte de la varianza (información) cuando se hace esto. \n",
    "\n",
    "Mediante el uso del atributo `explained_variance_ratio_`, podemos ver que el primer componente principal contiene el $72,77 \\%$ de la varianza y el segundo componente principal contiene el $23,03 \\%$ de la varianza. Juntos, los dos componentes contienen el $95,80\\%$ de la información."
   ]
  },
  {
   "cell_type": "code",
   "execution_count": null,
   "metadata": {
    "colab": {
     "base_uri": "https://localhost:8080/"
    },
    "id": "okUl9YTVDFTm",
    "outputId": "5036ea2c-06fb-4ccb-e191-737a83959b6d"
   },
   "outputs": [],
   "source": [
    "pca.explained_variance_ratio_"
   ]
  },
  {
   "cell_type": "markdown",
   "metadata": {
    "id": "PWpAybKREqzZ"
   },
   "source": [
    "Además, podemos observar que la maypría de los coeficientes de la matriz"
   ]
  },
  {
   "cell_type": "code",
   "execution_count": null,
   "metadata": {
    "colab": {
     "base_uri": "https://localhost:8080/"
    },
    "id": "fqnWdHH6Dnlm",
    "outputId": "d47df732-766f-462f-eb28-26c7ae1c76fc"
   },
   "outputs": [],
   "source": [
    "pca.singular_values_"
   ]
  },
  {
   "cell_type": "markdown",
   "metadata": {
    "id": "L4AyVtSvP52o"
   },
   "source": [
    "Notemos que las componentes obtenidas no están correlacionadas"
   ]
  },
  {
   "cell_type": "code",
   "execution_count": null,
   "metadata": {
    "id": "eXOFFN1ZL_xT"
   },
   "outputs": [],
   "source": [
    "from scipy.stats import pearsonr"
   ]
  },
  {
   "cell_type": "code",
   "execution_count": null,
   "metadata": {
    "colab": {
     "base_uri": "https://localhost:8080/"
    },
    "id": "j__Xu---IU7B",
    "outputId": "03a7177d-90ca-4688-ca41-89bb8651779b"
   },
   "outputs": [],
   "source": [
    "corr, _ = pearsonr(finalDf['CP 1'], finalDf['CP 2'])\n",
    "print('La correlación de Pearson es: %.3f' % corr)"
   ]
  },
  {
   "cell_type": "code",
   "execution_count": null,
   "metadata": {
    "id": "UsU2p-IRIUyU"
   },
   "outputs": [],
   "source": [
    "import seaborn as sns\n",
    "import matplotlib.pyplot as plt"
   ]
  },
  {
   "cell_type": "code",
   "execution_count": null,
   "metadata": {
    "colab": {
     "base_uri": "https://localhost:8080/",
     "height": 111
    },
    "id": "Rbtd9GjrSSk5",
    "outputId": "bc432bd4-6b59-4249-b3d1-1614b0aafed1"
   },
   "outputs": [],
   "source": [
    "finalDf.corr()"
   ]
  },
  {
   "cell_type": "code",
   "execution_count": null,
   "metadata": {
    "colab": {
     "base_uri": "https://localhost:8080/",
     "height": 419
    },
    "id": "3MsNtv1pSSig",
    "outputId": "b0d59094-405e-45d1-9380-5bd24fd02b4d"
   },
   "outputs": [],
   "source": [
    "irisT = pd.DataFrame(x,columns=iris.columns[:-1])\n",
    "irisT"
   ]
  },
  {
   "cell_type": "code",
   "execution_count": null,
   "metadata": {
    "colab": {
     "base_uri": "https://localhost:8080/",
     "height": 419
    },
    "id": "NsDsL7z7SSgG",
    "outputId": "da1a240c-9b3b-4aeb-fe2f-bdd3aaeaaba0"
   },
   "outputs": [],
   "source": [
    "irisTCP = irisT.copy()\n",
    "irisTCP['CP 1'] = finalDf['CP 1']\n",
    "irisTCP['CP 2'] = finalDf['CP 2']\n",
    "irisTCP"
   ]
  },
  {
   "cell_type": "code",
   "execution_count": null,
   "metadata": {
    "colab": {
     "base_uri": "https://localhost:8080/",
     "height": 235
    },
    "id": "27QqUUgqSSdr",
    "outputId": "e3061a42-579a-40bb-f7a1-f9b9b9d10dff"
   },
   "outputs": [],
   "source": [
    "corr = irisTCP.corr()\n",
    "corr[['CP 1','CP 2']]"
   ]
  },
  {
   "cell_type": "code",
   "execution_count": null,
   "metadata": {
    "colab": {
     "base_uri": "https://localhost:8080/",
     "height": 297
    },
    "id": "ewYsPumZT8MO",
    "outputId": "ee42ca17-cce7-409c-e58c-fb7721a9d796"
   },
   "outputs": [],
   "source": [
    "irisTCP.describe()"
   ]
  },
  {
   "cell_type": "code",
   "execution_count": null,
   "metadata": {
    "colab": {
     "base_uri": "https://localhost:8080/",
     "height": 80
    },
    "id": "4DHBG-U3T8J9",
    "outputId": "4aed2e55-f138-42bc-d3d8-90bbfb2fe988"
   },
   "outputs": [],
   "source": [
    "irisTCP[irisTCP['CP 1']>=3.3]"
   ]
  },
  {
   "cell_type": "code",
   "execution_count": null,
   "metadata": {
    "colab": {
     "base_uri": "https://localhost:8080/",
     "height": 80
    },
    "id": "uAI-vQzDT8Bq",
    "outputId": "6a6d1937-0d68-4739-e5d8-3641cda5a111"
   },
   "outputs": [],
   "source": [
    "irisTCP[irisTCP['CP 2']>=2.7]"
   ]
  },
  {
   "cell_type": "code",
   "execution_count": null,
   "metadata": {
    "colab": {
     "base_uri": "https://localhost:8080/",
     "height": 287
    },
    "id": "ENER0HkVT76m",
    "outputId": "c5ca6f72-3682-434d-e91d-0ba2ce207612"
   },
   "outputs": [],
   "source": [
    "sns.heatmap(corr[['CP 1','CP 2']], annot=True)"
   ]
  }
 ],
 "metadata": {
  "colab": {
   "provenance": []
  },
  "kernelspec": {
   "display_name": "Python 3",
   "language": "python",
   "name": "python3"
  },
  "language_info": {
   "codemirror_mode": {
    "name": "ipython",
    "version": 3
   },
   "file_extension": ".py",
   "mimetype": "text/x-python",
   "name": "python",
   "nbconvert_exporter": "python",
   "pygments_lexer": "ipython3",
   "version": "3.8.8"
  },
  "latex_envs": {
   "LaTeX_envs_menu_present": true,
   "autoclose": false,
   "autocomplete": true,
   "bibliofile": "biblio.bib",
   "cite_by": "apalike",
   "current_citInitial": 1,
   "eqLabelWithNumbers": true,
   "eqNumInitial": 1,
   "hotkeys": {
    "equation": "Ctrl-E",
    "itemize": "Ctrl-I"
   },
   "labels_anchors": false,
   "latex_user_defs": false,
   "report_style_numbering": false,
   "user_envs_cfg": false
  },
  "toc": {
   "base_numbering": 1,
   "nav_menu": {},
   "number_sections": true,
   "sideBar": true,
   "skip_h1_title": false,
   "title_cell": "Table of Contents",
   "title_sidebar": "Contents",
   "toc_cell": false,
   "toc_position": {},
   "toc_section_display": true,
   "toc_window_display": false
  }
 },
 "nbformat": 4,
 "nbformat_minor": 1
}
